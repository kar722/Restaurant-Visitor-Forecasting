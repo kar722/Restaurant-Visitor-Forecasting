{
 "cells": [
  {
   "cell_type": "markdown",
   "metadata": {},
   "source": [
    "# Restaurant Visitor Forecasting"
   ]
  },
  {
   "cell_type": "markdown",
   "metadata": {},
   "source": [
    "### 1. Data Preprocessing"
   ]
  },
  {
   "cell_type": "code",
   "execution_count": 3,
   "metadata": {},
   "outputs": [],
   "source": [
    "import pandas as pd\n",
    "\n",
    "air_visit = pd.read_csv('data/air_visit_data.csv')\n",
    "air_reserve = pd.read_csv('data/air_reserve.csv')\n",
    "hpg_reserve = pd.read_csv('data/hpg_reserve.csv')\n",
    "air_store_info = pd.read_csv('data/air_store_info.csv')\n",
    "hpg_store_info = pd.read_csv('data/hpg_store_info.csv')\n",
    "store_id_relation = pd.read_csv('data/store_id_relation.csv')\n",
    "date_info = pd.read_csv('data/date_info.csv')\n",
    "sample_submission = pd.read_csv('data/sample_submission.csv')"
   ]
  },
  {
   "cell_type": "code",
   "execution_count": null,
   "metadata": {},
   "outputs": [],
   "source": []
  }
 ],
 "metadata": {
  "kernelspec": {
   "display_name": "Python 3",
   "language": "python",
   "name": "python3"
  },
  "language_info": {
   "codemirror_mode": {
    "name": "ipython",
    "version": 3
   },
   "file_extension": ".py",
   "mimetype": "text/x-python",
   "name": "python",
   "nbconvert_exporter": "python",
   "pygments_lexer": "ipython3",
   "version": "3.9.6"
  }
 },
 "nbformat": 4,
 "nbformat_minor": 2
}
