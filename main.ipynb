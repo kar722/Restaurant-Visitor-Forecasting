{
 "cells": [
  {
   "cell_type": "markdown",
   "metadata": {},
   "source": [
    "# Restaurant Visitor Forecasting"
   ]
  },
  {
   "cell_type": "markdown",
   "metadata": {},
   "source": [
    "### 1. Data Preprocessing"
   ]
  },
  {
   "cell_type": "code",
   "execution_count": 82,
   "metadata": {},
   "outputs": [],
   "source": [
    "import pandas as pd\n",
    "\n",
    "air_visit = pd.read_csv('data/air_visit_data.csv')\n",
    "air_reserve = pd.read_csv('data/air_reserve.csv')\n",
    "hpg_reserve = pd.read_csv('data/hpg_reserve.csv')\n",
    "air_store_info = pd.read_csv('data/air_store_info.csv')\n",
    "hpg_store_info = pd.read_csv('data/hpg_store_info.csv')\n",
    "store_id_relation = pd.read_csv('data/store_id_relation.csv')\n",
    "date_info = pd.read_csv('data/date_info.csv')\n",
    "sample_submission = pd.read_csv('data/sample_submission.csv')"
   ]
  },
  {
   "cell_type": "markdown",
   "metadata": {},
   "source": [
    "Converting to datetime format"
   ]
  },
  {
   "cell_type": "code",
   "execution_count": 83,
   "metadata": {},
   "outputs": [],
   "source": [
    "for df in [air_reserve, hpg_reserve]:\n",
    "    df['visit_datetime'] = pd.to_datetime(df['visit_datetime']).dt.date\n",
    "    df['reserve_datetime'] = pd.to_datetime(df['reserve_datetime']).dt.date\n",
    "\n",
    "air_visit['visit_date'] = pd.to_datetime(air_visit['visit_date']).dt.date\n",
    "date_info['calendar_date'] = pd.to_datetime(date_info['calendar_date']).dt.date"
   ]
  },
  {
   "cell_type": "markdown",
   "metadata": {},
   "source": [
    "Aggregating Reservation Data\n",
    "- Total reservations per day\n",
    "- Average reservation lead time (gap between reservation and visit)"
   ]
  },
  {
   "cell_type": "code",
   "execution_count": 84,
   "metadata": {},
   "outputs": [],
   "source": [
    "air_reserve['reserve_lead_time'] = (\n",
    "    pd.to_datetime(air_reserve['visit_datetime']) - \n",
    "    pd.to_datetime(air_reserve['reserve_datetime'])\n",
    ").dt.days\n",
    "\n",
    "air_agg = air_reserve.groupby(['air_store_id', 'visit_datetime']).agg({\n",
    "    'reserve_visitors': 'sum',\n",
    "    'reserve_lead_time': 'mean'\n",
    "}).reset_index().rename(columns={\n",
    "    'visit_datetime': 'visit_date',\n",
    "    'reserve_visitors': 'air_reserve_visitors',\n",
    "    'reserve_lead_time': 'air_reserve_lead_time'\n",
    "})"
   ]
  },
  {
   "cell_type": "code",
   "execution_count": 85,
   "metadata": {},
   "outputs": [],
   "source": [
    "hpg_reserve = hpg_reserve.merge(store_id_relation, on='hpg_store_id', how='inner')\n",
    "\n",
    "hpg_reserve['reserve_lead_time'] = (\n",
    "    pd.to_datetime(hpg_reserve['visit_datetime']) - \n",
    "    pd.to_datetime(hpg_reserve['reserve_datetime'])\n",
    ").dt.days\n",
    "\n",
    "hpg_agg = hpg_reserve.groupby(['air_store_id', 'visit_datetime']).agg({\n",
    "    'reserve_visitors': 'sum',\n",
    "    'reserve_lead_time': 'mean'\n",
    "}).reset_index().rename(columns={\n",
    "    'visit_datetime': 'visit_date',\n",
    "    'reserve_visitors': 'hpg_reserve_visitors',\n",
    "    'reserve_lead_time': 'hpg_reserve_lead_time'\n",
    "})"
   ]
  },
  {
   "cell_type": "markdown",
   "metadata": {},
   "source": [
    "Creating the modeling base table"
   ]
  },
  {
   "cell_type": "code",
   "execution_count": 86,
   "metadata": {},
   "outputs": [],
   "source": [
    "# Merge visitor data with reservation features\n",
    "full_df = air_visit.merge(air_agg, on=['air_store_id', 'visit_date'], how='left')\n",
    "full_df = full_df.merge(hpg_agg, on=['air_store_id', 'visit_date'], how='left')\n",
    "\n",
    "# Merge with restaurant metadata\n",
    "full_df = full_df.merge(air_store_info, on='air_store_id', how='left')\n",
    "\n",
    "# Merge with calendar features\n",
    "date_info = date_info.rename(columns={'calendar_date': 'visit_date'})\n",
    "full_df = full_df.merge(date_info, on='visit_date', how='left')\n",
    "\n",
    "# Add weekday and weekend features\n",
    "full_df['day_of_week'] = pd.to_datetime(full_df['visit_date']).dt.dayofweek\n",
    "full_df['is_weekend'] = full_df['day_of_week'].isin([5, 6]).astype(int)"
   ]
  },
  {
   "cell_type": "code",
   "execution_count": 87,
   "metadata": {},
   "outputs": [
    {
     "data": {
      "text/html": [
       "<div>\n",
       "<style scoped>\n",
       "    .dataframe tbody tr th:only-of-type {\n",
       "        vertical-align: middle;\n",
       "    }\n",
       "\n",
       "    .dataframe tbody tr th {\n",
       "        vertical-align: top;\n",
       "    }\n",
       "\n",
       "    .dataframe thead th {\n",
       "        text-align: right;\n",
       "    }\n",
       "</style>\n",
       "<table border=\"1\" class=\"dataframe\">\n",
       "  <thead>\n",
       "    <tr style=\"text-align: right;\">\n",
       "      <th></th>\n",
       "      <th>air_store_id</th>\n",
       "      <th>visit_date</th>\n",
       "      <th>visitors</th>\n",
       "      <th>air_reserve_visitors</th>\n",
       "      <th>air_reserve_lead_time</th>\n",
       "      <th>hpg_reserve_visitors</th>\n",
       "      <th>hpg_reserve_lead_time</th>\n",
       "      <th>air_genre_name</th>\n",
       "      <th>air_area_name</th>\n",
       "      <th>latitude</th>\n",
       "      <th>longitude</th>\n",
       "      <th>day_of_week</th>\n",
       "      <th>holiday_flg</th>\n",
       "      <th>is_weekend</th>\n",
       "    </tr>\n",
       "  </thead>\n",
       "  <tbody>\n",
       "    <tr>\n",
       "      <th>0</th>\n",
       "      <td>air_ba937bf13d40fb24</td>\n",
       "      <td>2016-01-13</td>\n",
       "      <td>25</td>\n",
       "      <td>NaN</td>\n",
       "      <td>NaN</td>\n",
       "      <td>NaN</td>\n",
       "      <td>NaN</td>\n",
       "      <td>Dining bar</td>\n",
       "      <td>Tōkyō-to Minato-ku Shibakōen</td>\n",
       "      <td>35.658068</td>\n",
       "      <td>139.751599</td>\n",
       "      <td>2</td>\n",
       "      <td>0</td>\n",
       "      <td>0</td>\n",
       "    </tr>\n",
       "    <tr>\n",
       "      <th>1</th>\n",
       "      <td>air_ba937bf13d40fb24</td>\n",
       "      <td>2016-01-14</td>\n",
       "      <td>32</td>\n",
       "      <td>NaN</td>\n",
       "      <td>NaN</td>\n",
       "      <td>NaN</td>\n",
       "      <td>NaN</td>\n",
       "      <td>Dining bar</td>\n",
       "      <td>Tōkyō-to Minato-ku Shibakōen</td>\n",
       "      <td>35.658068</td>\n",
       "      <td>139.751599</td>\n",
       "      <td>3</td>\n",
       "      <td>0</td>\n",
       "      <td>0</td>\n",
       "    </tr>\n",
       "    <tr>\n",
       "      <th>2</th>\n",
       "      <td>air_ba937bf13d40fb24</td>\n",
       "      <td>2016-01-15</td>\n",
       "      <td>29</td>\n",
       "      <td>NaN</td>\n",
       "      <td>NaN</td>\n",
       "      <td>NaN</td>\n",
       "      <td>NaN</td>\n",
       "      <td>Dining bar</td>\n",
       "      <td>Tōkyō-to Minato-ku Shibakōen</td>\n",
       "      <td>35.658068</td>\n",
       "      <td>139.751599</td>\n",
       "      <td>4</td>\n",
       "      <td>0</td>\n",
       "      <td>0</td>\n",
       "    </tr>\n",
       "    <tr>\n",
       "      <th>3</th>\n",
       "      <td>air_ba937bf13d40fb24</td>\n",
       "      <td>2016-01-16</td>\n",
       "      <td>22</td>\n",
       "      <td>NaN</td>\n",
       "      <td>NaN</td>\n",
       "      <td>NaN</td>\n",
       "      <td>NaN</td>\n",
       "      <td>Dining bar</td>\n",
       "      <td>Tōkyō-to Minato-ku Shibakōen</td>\n",
       "      <td>35.658068</td>\n",
       "      <td>139.751599</td>\n",
       "      <td>5</td>\n",
       "      <td>0</td>\n",
       "      <td>1</td>\n",
       "    </tr>\n",
       "    <tr>\n",
       "      <th>4</th>\n",
       "      <td>air_ba937bf13d40fb24</td>\n",
       "      <td>2016-01-18</td>\n",
       "      <td>6</td>\n",
       "      <td>NaN</td>\n",
       "      <td>NaN</td>\n",
       "      <td>NaN</td>\n",
       "      <td>NaN</td>\n",
       "      <td>Dining bar</td>\n",
       "      <td>Tōkyō-to Minato-ku Shibakōen</td>\n",
       "      <td>35.658068</td>\n",
       "      <td>139.751599</td>\n",
       "      <td>0</td>\n",
       "      <td>0</td>\n",
       "      <td>0</td>\n",
       "    </tr>\n",
       "  </tbody>\n",
       "</table>\n",
       "</div>"
      ],
      "text/plain": [
       "           air_store_id  visit_date  visitors  air_reserve_visitors  \\\n",
       "0  air_ba937bf13d40fb24  2016-01-13        25                   NaN   \n",
       "1  air_ba937bf13d40fb24  2016-01-14        32                   NaN   \n",
       "2  air_ba937bf13d40fb24  2016-01-15        29                   NaN   \n",
       "3  air_ba937bf13d40fb24  2016-01-16        22                   NaN   \n",
       "4  air_ba937bf13d40fb24  2016-01-18         6                   NaN   \n",
       "\n",
       "   air_reserve_lead_time  hpg_reserve_visitors  hpg_reserve_lead_time  \\\n",
       "0                    NaN                   NaN                    NaN   \n",
       "1                    NaN                   NaN                    NaN   \n",
       "2                    NaN                   NaN                    NaN   \n",
       "3                    NaN                   NaN                    NaN   \n",
       "4                    NaN                   NaN                    NaN   \n",
       "\n",
       "  air_genre_name                 air_area_name   latitude   longitude  \\\n",
       "0     Dining bar  Tōkyō-to Minato-ku Shibakōen  35.658068  139.751599   \n",
       "1     Dining bar  Tōkyō-to Minato-ku Shibakōen  35.658068  139.751599   \n",
       "2     Dining bar  Tōkyō-to Minato-ku Shibakōen  35.658068  139.751599   \n",
       "3     Dining bar  Tōkyō-to Minato-ku Shibakōen  35.658068  139.751599   \n",
       "4     Dining bar  Tōkyō-to Minato-ku Shibakōen  35.658068  139.751599   \n",
       "\n",
       "   day_of_week  holiday_flg  is_weekend  \n",
       "0            2            0           0  \n",
       "1            3            0           0  \n",
       "2            4            0           0  \n",
       "3            5            0           1  \n",
       "4            0            0           0  "
      ]
     },
     "execution_count": 87,
     "metadata": {},
     "output_type": "execute_result"
    }
   ],
   "source": [
    "full_df.head()"
   ]
  },
  {
   "cell_type": "markdown",
   "metadata": {},
   "source": [
    "### 2. Lag + Rolling Features"
   ]
  },
  {
   "cell_type": "code",
   "execution_count": 88,
   "metadata": {},
   "outputs": [],
   "source": [
    "full_df = full_df.sort_values(['air_store_id', 'visit_date'])"
   ]
  },
  {
   "cell_type": "code",
   "execution_count": 89,
   "metadata": {},
   "outputs": [],
   "source": [
    "# Set number of days to lag\n",
    "lag_days = [1, 7, 14]\n",
    "\n",
    "for lag in lag_days:\n",
    "    full_df[f'visitors_lag_{lag}'] = (\n",
    "        full_df\n",
    "        .groupby('air_store_id')['visitors']\n",
    "        .shift(lag)\n",
    "    )"
   ]
  },
  {
   "cell_type": "code",
   "execution_count": 90,
   "metadata": {},
   "outputs": [],
   "source": [
    "rolling_windows = [3, 7, 14]\n",
    "\n",
    "for window in rolling_windows:\n",
    "    full_df[f'visitors_roll_mean_{window}'] = (\n",
    "        full_df\n",
    "        .groupby('air_store_id')['visitors']\n",
    "        .shift(1)  # ensure that we're not using today’s visitor count to predict itself (no leakage)\n",
    "        .rolling(window)\n",
    "        .mean()\n",
    "        .reset_index(0, drop=True)\n",
    "    )\n",
    "    \n",
    "    full_df[f'visitors_roll_std_{window}'] = (\n",
    "        full_df\n",
    "        .groupby('air_store_id')['visitors']\n",
    "        .shift(1)\n",
    "        .rolling(window)\n",
    "        .std()\n",
    "        .reset_index(0, drop=True)\n",
    "    )"
   ]
  },
  {
   "cell_type": "code",
   "execution_count": 91,
   "metadata": {},
   "outputs": [
    {
     "data": {
      "text/html": [
       "<div>\n",
       "<style scoped>\n",
       "    .dataframe tbody tr th:only-of-type {\n",
       "        vertical-align: middle;\n",
       "    }\n",
       "\n",
       "    .dataframe tbody tr th {\n",
       "        vertical-align: top;\n",
       "    }\n",
       "\n",
       "    .dataframe thead th {\n",
       "        text-align: right;\n",
       "    }\n",
       "</style>\n",
       "<table border=\"1\" class=\"dataframe\">\n",
       "  <thead>\n",
       "    <tr style=\"text-align: right;\">\n",
       "      <th></th>\n",
       "      <th>air_store_id</th>\n",
       "      <th>visit_date</th>\n",
       "      <th>visitors</th>\n",
       "      <th>air_reserve_visitors</th>\n",
       "      <th>air_reserve_lead_time</th>\n",
       "      <th>hpg_reserve_visitors</th>\n",
       "      <th>hpg_reserve_lead_time</th>\n",
       "      <th>air_genre_name</th>\n",
       "      <th>air_area_name</th>\n",
       "      <th>latitude</th>\n",
       "      <th>...</th>\n",
       "      <th>is_weekend</th>\n",
       "      <th>visitors_lag_1</th>\n",
       "      <th>visitors_lag_7</th>\n",
       "      <th>visitors_lag_14</th>\n",
       "      <th>visitors_roll_mean_3</th>\n",
       "      <th>visitors_roll_std_3</th>\n",
       "      <th>visitors_roll_mean_7</th>\n",
       "      <th>visitors_roll_std_7</th>\n",
       "      <th>visitors_roll_mean_14</th>\n",
       "      <th>visitors_roll_std_14</th>\n",
       "    </tr>\n",
       "  </thead>\n",
       "  <tbody>\n",
       "    <tr>\n",
       "      <th>87534</th>\n",
       "      <td>air_00a91d42b08b08d9</td>\n",
       "      <td>2016-07-01</td>\n",
       "      <td>35</td>\n",
       "      <td>NaN</td>\n",
       "      <td>NaN</td>\n",
       "      <td>1.0</td>\n",
       "      <td>1.0</td>\n",
       "      <td>Italian/French</td>\n",
       "      <td>Tōkyō-to Chiyoda-ku Kudanminami</td>\n",
       "      <td>35.694003</td>\n",
       "      <td>...</td>\n",
       "      <td>0</td>\n",
       "      <td>NaN</td>\n",
       "      <td>NaN</td>\n",
       "      <td>NaN</td>\n",
       "      <td>49.000000</td>\n",
       "      <td>6.082763</td>\n",
       "      <td>47.285714</td>\n",
       "      <td>7.994045</td>\n",
       "      <td>52.428571</td>\n",
       "      <td>38.679580</td>\n",
       "    </tr>\n",
       "    <tr>\n",
       "      <th>87535</th>\n",
       "      <td>air_00a91d42b08b08d9</td>\n",
       "      <td>2016-07-02</td>\n",
       "      <td>9</td>\n",
       "      <td>NaN</td>\n",
       "      <td>NaN</td>\n",
       "      <td>NaN</td>\n",
       "      <td>NaN</td>\n",
       "      <td>Italian/French</td>\n",
       "      <td>Tōkyō-to Chiyoda-ku Kudanminami</td>\n",
       "      <td>35.694003</td>\n",
       "      <td>...</td>\n",
       "      <td>1</td>\n",
       "      <td>35.0</td>\n",
       "      <td>NaN</td>\n",
       "      <td>NaN</td>\n",
       "      <td>49.333333</td>\n",
       "      <td>5.859465</td>\n",
       "      <td>48.571429</td>\n",
       "      <td>6.900656</td>\n",
       "      <td>53.214286</td>\n",
       "      <td>38.431114</td>\n",
       "    </tr>\n",
       "    <tr>\n",
       "      <th>87536</th>\n",
       "      <td>air_00a91d42b08b08d9</td>\n",
       "      <td>2016-07-04</td>\n",
       "      <td>20</td>\n",
       "      <td>NaN</td>\n",
       "      <td>NaN</td>\n",
       "      <td>NaN</td>\n",
       "      <td>NaN</td>\n",
       "      <td>Italian/French</td>\n",
       "      <td>Tōkyō-to Chiyoda-ku Kudanminami</td>\n",
       "      <td>35.694003</td>\n",
       "      <td>...</td>\n",
       "      <td>0</td>\n",
       "      <td>9.0</td>\n",
       "      <td>NaN</td>\n",
       "      <td>NaN</td>\n",
       "      <td>37.666667</td>\n",
       "      <td>24.378953</td>\n",
       "      <td>42.000000</td>\n",
       "      <td>15.362291</td>\n",
       "      <td>41.000000</td>\n",
       "      <td>14.277470</td>\n",
       "    </tr>\n",
       "    <tr>\n",
       "      <th>87537</th>\n",
       "      <td>air_00a91d42b08b08d9</td>\n",
       "      <td>2016-07-05</td>\n",
       "      <td>25</td>\n",
       "      <td>NaN</td>\n",
       "      <td>NaN</td>\n",
       "      <td>NaN</td>\n",
       "      <td>NaN</td>\n",
       "      <td>Italian/French</td>\n",
       "      <td>Tōkyō-to Chiyoda-ku Kudanminami</td>\n",
       "      <td>35.694003</td>\n",
       "      <td>...</td>\n",
       "      <td>0</td>\n",
       "      <td>20.0</td>\n",
       "      <td>NaN</td>\n",
       "      <td>NaN</td>\n",
       "      <td>36.000000</td>\n",
       "      <td>22.605309</td>\n",
       "      <td>44.000000</td>\n",
       "      <td>15.513435</td>\n",
       "      <td>42.571429</td>\n",
       "      <td>14.064217</td>\n",
       "    </tr>\n",
       "    <tr>\n",
       "      <th>87538</th>\n",
       "      <td>air_00a91d42b08b08d9</td>\n",
       "      <td>2016-07-06</td>\n",
       "      <td>29</td>\n",
       "      <td>NaN</td>\n",
       "      <td>NaN</td>\n",
       "      <td>7.0</td>\n",
       "      <td>12.0</td>\n",
       "      <td>Italian/French</td>\n",
       "      <td>Tōkyō-to Chiyoda-ku Kudanminami</td>\n",
       "      <td>35.694003</td>\n",
       "      <td>...</td>\n",
       "      <td>0</td>\n",
       "      <td>25.0</td>\n",
       "      <td>NaN</td>\n",
       "      <td>NaN</td>\n",
       "      <td>38.333333</td>\n",
       "      <td>24.583192</td>\n",
       "      <td>44.142857</td>\n",
       "      <td>15.614401</td>\n",
       "      <td>45.357143</td>\n",
       "      <td>11.875036</td>\n",
       "    </tr>\n",
       "  </tbody>\n",
       "</table>\n",
       "<p>5 rows × 23 columns</p>\n",
       "</div>"
      ],
      "text/plain": [
       "               air_store_id  visit_date  visitors  air_reserve_visitors  \\\n",
       "87534  air_00a91d42b08b08d9  2016-07-01        35                   NaN   \n",
       "87535  air_00a91d42b08b08d9  2016-07-02         9                   NaN   \n",
       "87536  air_00a91d42b08b08d9  2016-07-04        20                   NaN   \n",
       "87537  air_00a91d42b08b08d9  2016-07-05        25                   NaN   \n",
       "87538  air_00a91d42b08b08d9  2016-07-06        29                   NaN   \n",
       "\n",
       "       air_reserve_lead_time  hpg_reserve_visitors  hpg_reserve_lead_time  \\\n",
       "87534                    NaN                   1.0                    1.0   \n",
       "87535                    NaN                   NaN                    NaN   \n",
       "87536                    NaN                   NaN                    NaN   \n",
       "87537                    NaN                   NaN                    NaN   \n",
       "87538                    NaN                   7.0                   12.0   \n",
       "\n",
       "       air_genre_name                    air_area_name   latitude  ...  \\\n",
       "87534  Italian/French  Tōkyō-to Chiyoda-ku Kudanminami  35.694003  ...   \n",
       "87535  Italian/French  Tōkyō-to Chiyoda-ku Kudanminami  35.694003  ...   \n",
       "87536  Italian/French  Tōkyō-to Chiyoda-ku Kudanminami  35.694003  ...   \n",
       "87537  Italian/French  Tōkyō-to Chiyoda-ku Kudanminami  35.694003  ...   \n",
       "87538  Italian/French  Tōkyō-to Chiyoda-ku Kudanminami  35.694003  ...   \n",
       "\n",
       "       is_weekend  visitors_lag_1  visitors_lag_7  visitors_lag_14  \\\n",
       "87534           0             NaN             NaN              NaN   \n",
       "87535           1            35.0             NaN              NaN   \n",
       "87536           0             9.0             NaN              NaN   \n",
       "87537           0            20.0             NaN              NaN   \n",
       "87538           0            25.0             NaN              NaN   \n",
       "\n",
       "       visitors_roll_mean_3  visitors_roll_std_3  visitors_roll_mean_7  \\\n",
       "87534             49.000000             6.082763             47.285714   \n",
       "87535             49.333333             5.859465             48.571429   \n",
       "87536             37.666667            24.378953             42.000000   \n",
       "87537             36.000000            22.605309             44.000000   \n",
       "87538             38.333333            24.583192             44.142857   \n",
       "\n",
       "       visitors_roll_std_7  visitors_roll_mean_14  visitors_roll_std_14  \n",
       "87534             7.994045              52.428571             38.679580  \n",
       "87535             6.900656              53.214286             38.431114  \n",
       "87536            15.362291              41.000000             14.277470  \n",
       "87537            15.513435              42.571429             14.064217  \n",
       "87538            15.614401              45.357143             11.875036  \n",
       "\n",
       "[5 rows x 23 columns]"
      ]
     },
     "execution_count": 91,
     "metadata": {},
     "output_type": "execute_result"
    }
   ],
   "source": [
    "full_df.head()"
   ]
  },
  {
   "cell_type": "markdown",
   "metadata": {},
   "source": [
    "### 3. LightGBM Model Setup (Backbone Model)"
   ]
  },
  {
   "cell_type": "code",
   "execution_count": 92,
   "metadata": {},
   "outputs": [],
   "source": [
    "full_df = full_df[~full_df['visitors'].isna()] # Drop rows with missing target (if any)"
   ]
  },
  {
   "cell_type": "code",
   "execution_count": 93,
   "metadata": {},
   "outputs": [],
   "source": [
    "target = 'visitors'\n",
    "\n",
    "# Drop columns we won't use or that leak information\n",
    "drop_cols = ['visit_date', 'visitors']  # we keep 'air_store_id' for now, might encode\n",
    "\n",
    "# Get all feature columns\n",
    "features = [col for col in full_df.columns if col not in drop_cols]"
   ]
  },
  {
   "cell_type": "code",
   "execution_count": 94,
   "metadata": {},
   "outputs": [],
   "source": [
    "from sklearn.preprocessing import LabelEncoder\n",
    "\n",
    "# Label encode categorical columns\n",
    "\n",
    "for col in ['air_store_id', 'air_genre_name', 'air_area_name']:\n",
    "    le = LabelEncoder()\n",
    "    full_df[col] = le.fit_transform(full_df[col].astype(str))\n",
    "\n",
    "categorical_features = ['air_store_id', 'air_genre_name', 'air_area_name']"
   ]
  },
  {
   "cell_type": "markdown",
   "metadata": {},
   "source": [
    "Why Use 2017-03-01 as the cutoff_date?\n",
    "\n",
    "The data covers:\n",
    "- Training range: from 2016-01-01 to 2017-04-22\n",
    "- Test range: late April 2017 to May 2017 (includes Golden Week)\n",
    "\n",
    "I picked a validation window that:\n",
    "- Mimics the real test period (late April–May)\n",
    "- Gives at least 1–2 months of “unseen future” for validation\n",
    "- Leaves enough history to train LightGBM (over a year of training data)\n",
    "\n",
    "2017-03-01 gives ~1.5 months of validation data from March to April 22"
   ]
  },
  {
   "cell_type": "code",
   "execution_count": 95,
   "metadata": {},
   "outputs": [],
   "source": [
    "# Train-Test Split (Time-based)\n",
    "# Use last N days as validation set\n",
    "full_df['visit_date'] = pd.to_datetime(full_df['visit_date'])  # Convert to Timestamp\n",
    "\n",
    "cutoff_date = pd.to_datetime('2017-03-01')\n",
    "train_df = full_df[full_df['visit_date'] < cutoff_date]\n",
    "valid_df = full_df[full_df['visit_date'] >= cutoff_date]"
   ]
  },
  {
   "cell_type": "code",
   "execution_count": 96,
   "metadata": {},
   "outputs": [],
   "source": [
    "import lightgbm as lgb\n",
    "\n",
    "train_set = lgb.Dataset(train_df[features], label=train_df[target], categorical_feature=categorical_features)\n",
    "valid_set = lgb.Dataset(valid_df[features], label=valid_df[target], categorical_feature=categorical_features)"
   ]
  },
  {
   "cell_type": "code",
   "execution_count": 97,
   "metadata": {},
   "outputs": [
    {
     "name": "stdout",
     "output_type": "stream",
     "text": [
      "Training until validation scores don't improve for 50 rounds\n",
      "[100]\ttraining's rmse: 10.4999\tvalid_1's rmse: 12.7305\n",
      "[200]\ttraining's rmse: 10.0871\tvalid_1's rmse: 12.5096\n",
      "[300]\ttraining's rmse: 9.85345\tvalid_1's rmse: 12.4725\n",
      "Early stopping, best iteration is:\n",
      "[304]\ttraining's rmse: 9.84606\tvalid_1's rmse: 12.4695\n"
     ]
    }
   ],
   "source": [
    "params = {\n",
    "    'objective': 'regression',\n",
    "    'metric': 'rmse',\n",
    "    'learning_rate': 0.05,\n",
    "    'num_leaves': 31,\n",
    "    'feature_fraction': 0.8,\n",
    "    'bagging_fraction': 0.8,\n",
    "    'bagging_freq': 5,\n",
    "    'verbosity': -1\n",
    "}\n",
    "\n",
    "lgb_model = lgb.train(\n",
    "    params,\n",
    "    train_set,\n",
    "    valid_sets=[train_set, valid_set],\n",
    "    num_boost_round=1000,\n",
    "    callbacks=[\n",
    "        lgb.early_stopping(stopping_rounds=50),\n",
    "        lgb.log_evaluation(period=100)\n",
    "    ]\n",
    ")"
   ]
  },
  {
   "cell_type": "markdown",
   "metadata": {},
   "source": [
    "| Metric    | Best For |\n",
    "| -------- | ------- |\n",
    "| RMSE  | General-purpose numeric prediction    |\n",
    "| RMSLE  | Counts, skewed distributions, penalizing underestimates more than overestimates (better for demand forecasting)    |"
   ]
  },
  {
   "cell_type": "code",
   "execution_count": 98,
   "metadata": {},
   "outputs": [
    {
     "name": "stdout",
     "output_type": "stream",
     "text": [
      "Validation RMSLE: 0.5374\n"
     ]
    }
   ],
   "source": [
    "from sklearn.metrics import mean_squared_log_error\n",
    "import numpy as np\n",
    "\n",
    "y_true = valid_df[target]\n",
    "y_pred = lgb_model.predict(valid_df[features])\n",
    "y_pred = np.clip(y_pred, 0, None)  # No negative visitor predictions\n",
    "\n",
    "rmsle = np.sqrt(mean_squared_log_error(y_true, y_pred))\n",
    "print(f\"Validation RMSLE: {rmsle:.4f}\")"
   ]
  },
  {
   "cell_type": "markdown",
   "metadata": {},
   "source": [
    "Plotting Feature Importance"
   ]
  },
  {
   "cell_type": "code",
   "execution_count": 99,
   "metadata": {},
   "outputs": [
    {
     "data": {
      "image/png": "[encoded data removed]",
      "text/plain": [
       "<Figure size 1000x600 with 1 Axes>"
      ]
     },
     "metadata": {},
     "output_type": "display_data"
    }
   ],
   "source": [
    "import matplotlib.pyplot as plt\n",
    "lgb.plot_importance(lgb_model, max_num_features=20, importance_type='gain', figsize=(10, 6))\n",
    "plt.title(\"Top 20 Feature Importances (by Gain)\")\n",
    "plt.tight_layout()\n",
    "plt.show()"
   ]
  },
  {
   "cell_type": "markdown",
   "metadata": {},
   "source": [
    "### 4. Integrating Prophet"
   ]
  },
  {
   "cell_type": "code",
   "execution_count": 100,
   "metadata": {},
   "outputs": [],
   "source": [
    "from prophet import Prophet"
   ]
  },
  {
   "cell_type": "code",
   "execution_count": 101,
   "metadata": {},
   "outputs": [
    {
     "name": "stdout",
     "output_type": "stream",
     "text": [
      "Using store: 274\n"
     ]
    }
   ],
   "source": [
    "# Count non-NaN visitors per store\n",
    "store_counts = full_df.groupby('air_store_id')['visitors'].apply(lambda x: x.notna().sum()).sort_values(ascending=False)\n",
    "\n",
    "# Pick a store with at least 50 non-NaN entries\n",
    "valid_store_id = store_counts[store_counts >= 50].index[0]\n",
    "print(f\"Using store: {valid_store_id}\")"
   ]
  },
  {
   "cell_type": "code",
   "execution_count": 102,
   "metadata": {},
   "outputs": [],
   "source": [
    "holidays = date_info[date_info['holiday_flg'] == 1][['visit_date']].rename(columns={\n",
    "    'visit_date': 'ds'\n",
    "})\n",
    "holidays['holiday'] = 'japan_holiday'"
   ]
  },
  {
   "cell_type": "code",
   "execution_count": 103,
   "metadata": {},
   "outputs": [],
   "source": [
    "store_df = full_df[(full_df['air_store_id'] == valid_store_id) & (full_df['visitors'].notnull())].copy()\n",
    "\n",
    "prophet_df = store_df[['visit_date', 'visitors']].rename(columns={\n",
    "    'visit_date': 'ds',\n",
    "    'visitors': 'y'\n",
    "})"
   ]
  },
  {
   "cell_type": "code",
   "execution_count": 104,
   "metadata": {},
   "outputs": [
    {
     "name": "stdout",
     "output_type": "stream",
     "text": [
      "               ds   y\n",
      "158602 2016-01-02  24\n",
      "158603 2016-01-03  49\n",
      "158604 2016-01-04  10\n",
      "158605 2016-01-05   2\n",
      "158606 2016-01-06   9\n",
      "477 non-NaN values in 'y'\n"
     ]
    }
   ],
   "source": [
    "print(prophet_df.head())\n",
    "print(prophet_df['y'].notna().sum(), \"non-NaN values in 'y'\")"
   ]
  },
  {
   "cell_type": "code",
   "execution_count": 105,
   "metadata": {},
   "outputs": [
    {
     "name": "stderr",
     "output_type": "stream",
     "text": [
      "20:16:24 - cmdstanpy - INFO - Chain [1] start processing\n",
      "20:16:24 - cmdstanpy - INFO - Chain [1] done processing\n"
     ]
    },
    {
     "data": {
      "text/plain": [
       "<prophet.forecaster.Prophet at 0x31c168740>"
      ]
     },
     "execution_count": 105,
     "metadata": {},
     "output_type": "execute_result"
    }
   ],
   "source": [
    "m = Prophet(\n",
    "    holidays=holidays,\n",
    "    yearly_seasonality=True,\n",
    "    weekly_seasonality=True,\n",
    "    daily_seasonality=False\n",
    ")\n",
    "\n",
    "m.fit(prophet_df)"
   ]
  },
  {
   "cell_type": "code",
   "execution_count": 106,
   "metadata": {},
   "outputs": [],
   "source": [
    "# Get number of future days to forecast (from your validation set)\n",
    "forecast_horizon = valid_df[valid_df['air_store_id'] == valid_store_id]['visit_date'].nunique()\n",
    "\n",
    "# Create future dataframe for Prophet\n",
    "future = m.make_future_dataframe(periods=forecast_horizon)\n",
    "\n",
    "# Generate forecast\n",
    "forecast = m.predict(future)"
   ]
  },
  {
   "cell_type": "code",
   "execution_count": 107,
   "metadata": {},
   "outputs": [],
   "source": [
    "# Merge Prophet forecast with actual validation data\n",
    "store_forecast = forecast[['ds', 'yhat']].merge(\n",
    "    valid_df[valid_df['air_store_id'] == valid_store_id][['visit_date', 'visitors']],\n",
    "    left_on='ds',\n",
    "    right_on='visit_date',\n",
    "    how='inner'\n",
    ")"
   ]
  },
  {
   "cell_type": "code",
   "execution_count": 108,
   "metadata": {},
   "outputs": [
    {
     "name": "stdout",
     "output_type": "stream",
     "text": [
      "Prophet RMSLE for 274: 0.4460\n"
     ]
    }
   ],
   "source": [
    "from sklearn.metrics import mean_squared_log_error\n",
    "import numpy as np\n",
    "\n",
    "y_true = store_forecast['visitors']\n",
    "y_pred = np.clip(store_forecast['yhat'], 0, None)  # Remove negative predictions\n",
    "\n",
    "prophet_rmsle = np.sqrt(mean_squared_log_error(y_true, y_pred))\n",
    "print(f\"Prophet RMSLE for {valid_store_id}: {prophet_rmsle:.4f}\")"
   ]
  },
  {
   "cell_type": "markdown",
   "metadata": {},
   "source": [
    "### 5. Testing ARIMA"
   ]
  },
  {
   "cell_type": "code",
   "execution_count": 109,
   "metadata": {},
   "outputs": [],
   "source": [
    "from statsmodels.tsa.arima.model import ARIMA\n",
    "\n",
    "# Use the same store\n",
    "arima_df = full_df[(full_df['air_store_id'] == valid_store_id)].copy()\n",
    "arima_df = arima_df[['visit_date', 'visitors']].dropna()\n",
    "arima_df = arima_df.set_index('visit_date').asfreq('D')  # Ensure daily frequency"
   ]
  },
  {
   "cell_type": "code",
   "execution_count": 110,
   "metadata": {},
   "outputs": [],
   "source": [
    "arima_df['visitors'] = arima_df['visitors'].fillna(0)"
   ]
  },
  {
   "cell_type": "code",
   "execution_count": 111,
   "metadata": {},
   "outputs": [],
   "source": [
    "arima_model = ARIMA(arima_df['visitors'], order=(5,1,0))\n",
    "arima_model_fit = arima_model.fit()"
   ]
  },
  {
   "cell_type": "code",
   "execution_count": 112,
   "metadata": {},
   "outputs": [],
   "source": [
    "n_days = valid_df[valid_df['air_store_id'] == valid_store_id]['visit_date'].nunique()\n",
    "arima_forecast = arima_model_fit.forecast(steps=n_days)"
   ]
  },
  {
   "cell_type": "code",
   "execution_count": 113,
   "metadata": {},
   "outputs": [],
   "source": [
    "actual = valid_df[valid_df['air_store_id'] == valid_store_id][['visit_date', 'visitors']].copy().reset_index(drop=True)\n",
    "actual['arima_pred'] = np.clip(arima_forecast.values, 0, None)"
   ]
  },
  {
   "cell_type": "code",
   "execution_count": 114,
   "metadata": {},
   "outputs": [
    {
     "name": "stdout",
     "output_type": "stream",
     "text": [
      "ARIMA RMSLE for 274: 0.6662\n"
     ]
    }
   ],
   "source": [
    "from sklearn.metrics import mean_squared_log_error\n",
    "\n",
    "arima_rmsle = np.sqrt(mean_squared_log_error(actual['visitors'], actual['arima_pred']))\n",
    "print(f\"ARIMA RMSLE for {valid_store_id}: {arima_rmsle:.4f}\")"
   ]
  },
  {
   "cell_type": "markdown",
   "metadata": {},
   "source": [
    "| Model    | RMSLE | Interpretation |\n",
    "| -------- | ------- |  ------- |\n",
    "| Prophet  | 0.4460    | Captures holiday + seasonal patterns effectively|\n",
    "| RMSLE  | 0.6662  |  Struggles to generalize — likely overfits short-term noise  |"
   ]
  },
  {
   "cell_type": "markdown",
   "metadata": {},
   "source": [
    "## 6. LightGBM + Prophet Ensemble"
   ]
  },
  {
   "cell_type": "code",
   "execution_count": 115,
   "metadata": {},
   "outputs": [
    {
     "data": {
      "text/html": [
       "<div>\n",
       "<style scoped>\n",
       "    .dataframe tbody tr th:only-of-type {\n",
       "        vertical-align: middle;\n",
       "    }\n",
       "\n",
       "    .dataframe tbody tr th {\n",
       "        vertical-align: top;\n",
       "    }\n",
       "\n",
       "    .dataframe thead th {\n",
       "        text-align: right;\n",
       "    }\n",
       "</style>\n",
       "<table border=\"1\" class=\"dataframe\">\n",
       "  <thead>\n",
       "    <tr style=\"text-align: right;\">\n",
       "      <th></th>\n",
       "      <th>air_store_id</th>\n",
       "      <th>visit_date</th>\n",
       "      <th>visitors</th>\n",
       "      <th>air_reserve_visitors</th>\n",
       "      <th>air_reserve_lead_time</th>\n",
       "      <th>hpg_reserve_visitors</th>\n",
       "      <th>hpg_reserve_lead_time</th>\n",
       "      <th>air_genre_name</th>\n",
       "      <th>air_area_name</th>\n",
       "      <th>latitude</th>\n",
       "      <th>...</th>\n",
       "      <th>is_weekend</th>\n",
       "      <th>visitors_lag_1</th>\n",
       "      <th>visitors_lag_7</th>\n",
       "      <th>visitors_lag_14</th>\n",
       "      <th>visitors_roll_mean_3</th>\n",
       "      <th>visitors_roll_std_3</th>\n",
       "      <th>visitors_roll_mean_7</th>\n",
       "      <th>visitors_roll_std_7</th>\n",
       "      <th>visitors_roll_mean_14</th>\n",
       "      <th>visitors_roll_std_14</th>\n",
       "    </tr>\n",
       "  </thead>\n",
       "  <tbody>\n",
       "    <tr>\n",
       "      <th>87722</th>\n",
       "      <td>0</td>\n",
       "      <td>2017-03-01</td>\n",
       "      <td>17</td>\n",
       "      <td>3.0</td>\n",
       "      <td>11.0</td>\n",
       "      <td>4.0</td>\n",
       "      <td>11.0</td>\n",
       "      <td>6</td>\n",
       "      <td>44</td>\n",
       "      <td>35.694003</td>\n",
       "      <td>...</td>\n",
       "      <td>0</td>\n",
       "      <td>19.0</td>\n",
       "      <td>36.0</td>\n",
       "      <td>24.0</td>\n",
       "      <td>30.666667</td>\n",
       "      <td>6.658328</td>\n",
       "      <td>25.000000</td>\n",
       "      <td>8.755950</td>\n",
       "      <td>29.500000</td>\n",
       "      <td>8.899006</td>\n",
       "    </tr>\n",
       "    <tr>\n",
       "      <th>87723</th>\n",
       "      <td>0</td>\n",
       "      <td>2017-03-02</td>\n",
       "      <td>33</td>\n",
       "      <td>NaN</td>\n",
       "      <td>NaN</td>\n",
       "      <td>2.0</td>\n",
       "      <td>1.0</td>\n",
       "      <td>6</td>\n",
       "      <td>44</td>\n",
       "      <td>35.694003</td>\n",
       "      <td>...</td>\n",
       "      <td>0</td>\n",
       "      <td>17.0</td>\n",
       "      <td>33.0</td>\n",
       "      <td>41.0</td>\n",
       "      <td>34.666667</td>\n",
       "      <td>11.503623</td>\n",
       "      <td>29.857143</td>\n",
       "      <td>9.719886</td>\n",
       "      <td>29.928571</td>\n",
       "      <td>9.563265</td>\n",
       "    </tr>\n",
       "    <tr>\n",
       "      <th>87724</th>\n",
       "      <td>0</td>\n",
       "      <td>2017-03-03</td>\n",
       "      <td>29</td>\n",
       "      <td>NaN</td>\n",
       "      <td>NaN</td>\n",
       "      <td>NaN</td>\n",
       "      <td>NaN</td>\n",
       "      <td>6</td>\n",
       "      <td>44</td>\n",
       "      <td>35.694003</td>\n",
       "      <td>...</td>\n",
       "      <td>0</td>\n",
       "      <td>33.0</td>\n",
       "      <td>40.0</td>\n",
       "      <td>52.0</td>\n",
       "      <td>42.333333</td>\n",
       "      <td>6.350853</td>\n",
       "      <td>34.142857</td>\n",
       "      <td>9.191093</td>\n",
       "      <td>30.785714</td>\n",
       "      <td>10.452667</td>\n",
       "    </tr>\n",
       "    <tr>\n",
       "      <th>87725</th>\n",
       "      <td>0</td>\n",
       "      <td>2017-03-04</td>\n",
       "      <td>18</td>\n",
       "      <td>NaN</td>\n",
       "      <td>NaN</td>\n",
       "      <td>NaN</td>\n",
       "      <td>NaN</td>\n",
       "      <td>6</td>\n",
       "      <td>44</td>\n",
       "      <td>35.694003</td>\n",
       "      <td>...</td>\n",
       "      <td>1</td>\n",
       "      <td>29.0</td>\n",
       "      <td>28.0</td>\n",
       "      <td>35.0</td>\n",
       "      <td>34.000000</td>\n",
       "      <td>20.784610</td>\n",
       "      <td>31.285714</td>\n",
       "      <td>13.009154</td>\n",
       "      <td>29.642857</td>\n",
       "      <td>11.803566</td>\n",
       "    </tr>\n",
       "    <tr>\n",
       "      <th>87726</th>\n",
       "      <td>0</td>\n",
       "      <td>2017-03-06</td>\n",
       "      <td>18</td>\n",
       "      <td>NaN</td>\n",
       "      <td>NaN</td>\n",
       "      <td>NaN</td>\n",
       "      <td>NaN</td>\n",
       "      <td>6</td>\n",
       "      <td>44</td>\n",
       "      <td>35.694003</td>\n",
       "      <td>...</td>\n",
       "      <td>0</td>\n",
       "      <td>18.0</td>\n",
       "      <td>11.0</td>\n",
       "      <td>45.0</td>\n",
       "      <td>33.333333</td>\n",
       "      <td>20.231988</td>\n",
       "      <td>34.000000</td>\n",
       "      <td>13.453624</td>\n",
       "      <td>30.214286</td>\n",
       "      <td>12.317458</td>\n",
       "    </tr>\n",
       "  </tbody>\n",
       "</table>\n",
       "<p>5 rows × 23 columns</p>\n",
       "</div>"
      ],
      "text/plain": [
       "       air_store_id visit_date  visitors  air_reserve_visitors  \\\n",
       "87722             0 2017-03-01        17                   3.0   \n",
       "87723             0 2017-03-02        33                   NaN   \n",
       "87724             0 2017-03-03        29                   NaN   \n",
       "87725             0 2017-03-04        18                   NaN   \n",
       "87726             0 2017-03-06        18                   NaN   \n",
       "\n",
       "       air_reserve_lead_time  hpg_reserve_visitors  hpg_reserve_lead_time  \\\n",
       "87722                   11.0                   4.0                   11.0   \n",
       "87723                    NaN                   2.0                    1.0   \n",
       "87724                    NaN                   NaN                    NaN   \n",
       "87725                    NaN                   NaN                    NaN   \n",
       "87726                    NaN                   NaN                    NaN   \n",
       "\n",
       "       air_genre_name  air_area_name   latitude  ...  is_weekend  \\\n",
       "87722               6             44  35.694003  ...           0   \n",
       "87723               6             44  35.694003  ...           0   \n",
       "87724               6             44  35.694003  ...           0   \n",
       "87725               6             44  35.694003  ...           1   \n",
       "87726               6             44  35.694003  ...           0   \n",
       "\n",
       "       visitors_lag_1  visitors_lag_7  visitors_lag_14  visitors_roll_mean_3  \\\n",
       "87722            19.0            36.0             24.0             30.666667   \n",
       "87723            17.0            33.0             41.0             34.666667   \n",
       "87724            33.0            40.0             52.0             42.333333   \n",
       "87725            29.0            28.0             35.0             34.000000   \n",
       "87726            18.0            11.0             45.0             33.333333   \n",
       "\n",
       "       visitors_roll_std_3  visitors_roll_mean_7  visitors_roll_std_7  \\\n",
       "87722             6.658328             25.000000             8.755950   \n",
       "87723            11.503623             29.857143             9.719886   \n",
       "87724             6.350853             34.142857             9.191093   \n",
       "87725            20.784610             31.285714            13.009154   \n",
       "87726            20.231988             34.000000            13.453624   \n",
       "\n",
       "       visitors_roll_mean_14  visitors_roll_std_14  \n",
       "87722              29.500000              8.899006  \n",
       "87723              29.928571              9.563265  \n",
       "87724              30.785714             10.452667  \n",
       "87725              29.642857             11.803566  \n",
       "87726              30.214286             12.317458  \n",
       "\n",
       "[5 rows x 23 columns]"
      ]
     },
     "execution_count": 115,
     "metadata": {},
     "output_type": "execute_result"
    }
   ],
   "source": [
    "valid_df.head()"
   ]
  },
  {
   "cell_type": "code",
   "execution_count": 116,
   "metadata": {},
   "outputs": [],
   "source": [
    "# Get LightGBM predictions for the store\n",
    "store_valid = valid_df[valid_df['air_store_id'] == valid_store_id].copy()\n",
    "store_valid['lgb_pred'] = lgb_model.predict(store_valid[features])"
   ]
  },
  {
   "cell_type": "code",
   "execution_count": 117,
   "metadata": {},
   "outputs": [],
   "source": [
    "# Already renamed earlier\n",
    "prophet_forecast = forecast[['ds', 'yhat']].rename(columns={\n",
    "    'ds': 'visit_date',\n",
    "    'yhat': 'prophet_pred'\n",
    "})"
   ]
  },
  {
   "cell_type": "code",
   "execution_count": 118,
   "metadata": {},
   "outputs": [],
   "source": [
    "ensemble_df = store_valid.merge(prophet_forecast, on='visit_date', how='inner')"
   ]
  },
  {
   "cell_type": "code",
   "execution_count": 153,
   "metadata": {},
   "outputs": [],
   "source": [
    "alpha = 0.73  # LightGBM weight\n",
    "ensemble_df['ensemble_pred'] = (\n",
    "    alpha * ensemble_df['lgb_pred'] + (1 - alpha) * ensemble_df['prophet_pred']\n",
    ")"
   ]
  },
  {
   "cell_type": "code",
   "execution_count": 154,
   "metadata": {},
   "outputs": [
    {
     "name": "stdout",
     "output_type": "stream",
     "text": [
      "Ensemble RMSLE for 274: 0.4241\n"
     ]
    }
   ],
   "source": [
    "from sklearn.metrics import mean_squared_log_error\n",
    "import numpy as np\n",
    "\n",
    "y_true = ensemble_df['visitors']\n",
    "y_pred = np.clip(ensemble_df['ensemble_pred'], 0, None)\n",
    "\n",
    "ensemble_rmsle = np.sqrt(mean_squared_log_error(y_true, y_pred))\n",
    "print(f\"Ensemble RMSLE for {valid_store_id}: {ensemble_rmsle:.4f}\")"
   ]
  },
  {
   "cell_type": "markdown",
   "metadata": {},
   "source": [
    "| RMSLE Score    | Interpretation                           |\n",
    "| --------       | -------                                  |\n",
    "| < 0.4          | Excellent — very tight predictions       |\n",
    "| 0.4–0.6        | Solid performance                        |\n",
    "| > 0.6          | Needs improvement or more feature tuning |\n"
   ]
  },
  {
   "cell_type": "code",
   "execution_count": null,
   "metadata": {},
   "outputs": [],
   "source": []
  }
 ],
 "metadata": {
  "kernelspec": {
   "display_name": "Python 3",
   "language": "python",
   "name": "python3"
  },
  "language_info": {
   "codemirror_mode": {
    "name": "ipython",
    "version": 3
   },
   "file_extension": ".py",
   "mimetype": "text/x-python",
   "name": "python",
   "nbconvert_exporter": "python",
   "pygments_lexer": "ipython3",
   "version": "3.12.2"
  }
 },
 "nbformat": 4,
 "nbformat_minor": 2
}
