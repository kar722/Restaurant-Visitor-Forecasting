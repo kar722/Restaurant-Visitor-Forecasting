{
 "cells": [
  {
   "cell_type": "markdown",
   "metadata": {},
   "source": [
    "# Restaurant Visitor Forecasting"
   ]
  },
  {
   "cell_type": "markdown",
   "metadata": {},
   "source": [
    "### 1. Data Preprocessing"
   ]
  },
  {
   "cell_type": "code",
   "execution_count": 4,
   "metadata": {},
   "outputs": [],
   "source": [
    "import pandas as pd\n",
    "\n",
    "air_visit = pd.read_csv('data/air_visit_data.csv')\n",
    "air_reserve = pd.read_csv('data/air_reserve.csv')\n",
    "hpg_reserve = pd.read_csv('data/hpg_reserve.csv')\n",
    "air_store_info = pd.read_csv('data/air_store_info.csv')\n",
    "hpg_store_info = pd.read_csv('data/hpg_store_info.csv')\n",
    "store_id_relation = pd.read_csv('data/store_id_relation.csv')\n",
    "date_info = pd.read_csv('data/date_info.csv')\n",
    "sample_submission = pd.read_csv('data/sample_submission.csv')"
   ]
  },
  {
   "cell_type": "markdown",
   "metadata": {},
   "source": [
    "Converting to datetime format"
   ]
  },
  {
   "cell_type": "code",
   "execution_count": 14,
   "metadata": {},
   "outputs": [],
   "source": [
    "for df in [air_reserve, hpg_reserve]:\n",
    "    df['visit_datetime'] = pd.to_datetime(df['visit_datetime']).dt.date\n",
    "    df['reserve_datetime'] = pd.to_datetime(df['reserve_datetime']).dt.date\n",
    "\n",
    "air_visit['visit_date'] = pd.to_datetime(air_visit['visit_date']).dt.date\n",
    "date_info['calendar_date'] = pd.to_datetime(date_info['calendar_date']).dt.date"
   ]
  },
  {
   "cell_type": "markdown",
   "metadata": {},
   "source": [
    "Aggregating Reservation Data\n",
    "- Total reservations per day\n",
    "- Average reservation lead time (gap between reservation and visit)"
   ]
  },
  {
   "cell_type": "code",
   "execution_count": 15,
   "metadata": {},
   "outputs": [],
   "source": [
    "air_reserve['reserve_lead_time'] = (\n",
    "    pd.to_datetime(air_reserve['visit_datetime']) - \n",
    "    pd.to_datetime(air_reserve['reserve_datetime'])\n",
    ").dt.days\n",
    "\n",
    "air_agg = air_reserve.groupby(['air_store_id', 'visit_datetime']).agg({\n",
    "    'reserve_visitors': 'sum',\n",
    "    'reserve_lead_time': 'mean'\n",
    "}).reset_index().rename(columns={\n",
    "    'visit_datetime': 'visit_date',\n",
    "    'reserve_visitors': 'air_reserve_visitors',\n",
    "    'reserve_lead_time': 'air_reserve_lead_time'\n",
    "})"
   ]
  },
  {
   "cell_type": "code",
   "execution_count": 16,
   "metadata": {},
   "outputs": [],
   "source": [
    "hpg_reserve = hpg_reserve.merge(store_id_relation, on='hpg_store_id', how='inner')\n",
    "\n",
    "hpg_reserve['reserve_lead_time'] = (\n",
    "    pd.to_datetime(hpg_reserve['visit_datetime']) - \n",
    "    pd.to_datetime(hpg_reserve['reserve_datetime'])\n",
    ").dt.days\n",
    "\n",
    "hpg_agg = hpg_reserve.groupby(['air_store_id', 'visit_datetime']).agg({\n",
    "    'reserve_visitors': 'sum',\n",
    "    'reserve_lead_time': 'mean'\n",
    "}).reset_index().rename(columns={\n",
    "    'visit_datetime': 'visit_date',\n",
    "    'reserve_visitors': 'hpg_reserve_visitors',\n",
    "    'reserve_lead_time': 'hpg_reserve_lead_time'\n",
    "})"
   ]
  },
  {
   "cell_type": "markdown",
   "metadata": {},
   "source": [
    "Creating the modeling base table"
   ]
  },
  {
   "cell_type": "code",
   "execution_count": 17,
   "metadata": {},
   "outputs": [],
   "source": [
    "# Merge visitor data with reservation features\n",
    "full_df = air_visit.merge(air_agg, on=['air_store_id', 'visit_date'], how='left')\n",
    "full_df = full_df.merge(hpg_agg, on=['air_store_id', 'visit_date'], how='left')\n",
    "\n",
    "# Merge with restaurant metadata\n",
    "full_df = full_df.merge(air_store_info, on='air_store_id', how='left')\n",
    "\n",
    "# Merge with calendar features\n",
    "date_info = date_info.rename(columns={'calendar_date': 'visit_date'})\n",
    "full_df = full_df.merge(date_info, on='visit_date', how='left')\n",
    "\n",
    "# Add weekday and weekend features\n",
    "full_df['day_of_week'] = pd.to_datetime(full_df['visit_date']).dt.dayofweek\n",
    "full_df['is_weekend'] = full_df['day_of_week'].isin([5, 6]).astype(int)"
   ]
  },
  {
   "cell_type": "code",
   "execution_count": 18,
   "metadata": {},
   "outputs": [
    {
     "data": {
      "text/html": [
       "<div>\n",
       "<style scoped>\n",
       "    .dataframe tbody tr th:only-of-type {\n",
       "        vertical-align: middle;\n",
       "    }\n",
       "\n",
       "    .dataframe tbody tr th {\n",
       "        vertical-align: top;\n",
       "    }\n",
       "\n",
       "    .dataframe thead th {\n",
       "        text-align: right;\n",
       "    }\n",
       "</style>\n",
       "<table border=\"1\" class=\"dataframe\">\n",
       "  <thead>\n",
       "    <tr style=\"text-align: right;\">\n",
       "      <th></th>\n",
       "      <th>air_store_id</th>\n",
       "      <th>visit_date</th>\n",
       "      <th>visitors</th>\n",
       "      <th>air_reserve_visitors</th>\n",
       "      <th>air_reserve_lead_time</th>\n",
       "      <th>hpg_reserve_visitors</th>\n",
       "      <th>hpg_reserve_lead_time</th>\n",
       "      <th>air_genre_name</th>\n",
       "      <th>air_area_name</th>\n",
       "      <th>latitude</th>\n",
       "      <th>longitude</th>\n",
       "      <th>day_of_week</th>\n",
       "      <th>holiday_flg</th>\n",
       "      <th>is_weekend</th>\n",
       "    </tr>\n",
       "  </thead>\n",
       "  <tbody>\n",
       "    <tr>\n",
       "      <th>0</th>\n",
       "      <td>air_ba937bf13d40fb24</td>\n",
       "      <td>2016-01-13</td>\n",
       "      <td>25</td>\n",
       "      <td>NaN</td>\n",
       "      <td>NaN</td>\n",
       "      <td>NaN</td>\n",
       "      <td>NaN</td>\n",
       "      <td>Dining bar</td>\n",
       "      <td>Tōkyō-to Minato-ku Shibakōen</td>\n",
       "      <td>35.658068</td>\n",
       "      <td>139.751599</td>\n",
       "      <td>2</td>\n",
       "      <td>0</td>\n",
       "      <td>0</td>\n",
       "    </tr>\n",
       "    <tr>\n",
       "      <th>1</th>\n",
       "      <td>air_ba937bf13d40fb24</td>\n",
       "      <td>2016-01-14</td>\n",
       "      <td>32</td>\n",
       "      <td>NaN</td>\n",
       "      <td>NaN</td>\n",
       "      <td>NaN</td>\n",
       "      <td>NaN</td>\n",
       "      <td>Dining bar</td>\n",
       "      <td>Tōkyō-to Minato-ku Shibakōen</td>\n",
       "      <td>35.658068</td>\n",
       "      <td>139.751599</td>\n",
       "      <td>3</td>\n",
       "      <td>0</td>\n",
       "      <td>0</td>\n",
       "    </tr>\n",
       "    <tr>\n",
       "      <th>2</th>\n",
       "      <td>air_ba937bf13d40fb24</td>\n",
       "      <td>2016-01-15</td>\n",
       "      <td>29</td>\n",
       "      <td>NaN</td>\n",
       "      <td>NaN</td>\n",
       "      <td>NaN</td>\n",
       "      <td>NaN</td>\n",
       "      <td>Dining bar</td>\n",
       "      <td>Tōkyō-to Minato-ku Shibakōen</td>\n",
       "      <td>35.658068</td>\n",
       "      <td>139.751599</td>\n",
       "      <td>4</td>\n",
       "      <td>0</td>\n",
       "      <td>0</td>\n",
       "    </tr>\n",
       "    <tr>\n",
       "      <th>3</th>\n",
       "      <td>air_ba937bf13d40fb24</td>\n",
       "      <td>2016-01-16</td>\n",
       "      <td>22</td>\n",
       "      <td>NaN</td>\n",
       "      <td>NaN</td>\n",
       "      <td>NaN</td>\n",
       "      <td>NaN</td>\n",
       "      <td>Dining bar</td>\n",
       "      <td>Tōkyō-to Minato-ku Shibakōen</td>\n",
       "      <td>35.658068</td>\n",
       "      <td>139.751599</td>\n",
       "      <td>5</td>\n",
       "      <td>0</td>\n",
       "      <td>1</td>\n",
       "    </tr>\n",
       "    <tr>\n",
       "      <th>4</th>\n",
       "      <td>air_ba937bf13d40fb24</td>\n",
       "      <td>2016-01-18</td>\n",
       "      <td>6</td>\n",
       "      <td>NaN</td>\n",
       "      <td>NaN</td>\n",
       "      <td>NaN</td>\n",
       "      <td>NaN</td>\n",
       "      <td>Dining bar</td>\n",
       "      <td>Tōkyō-to Minato-ku Shibakōen</td>\n",
       "      <td>35.658068</td>\n",
       "      <td>139.751599</td>\n",
       "      <td>0</td>\n",
       "      <td>0</td>\n",
       "      <td>0</td>\n",
       "    </tr>\n",
       "  </tbody>\n",
       "</table>\n",
       "</div>"
      ],
      "text/plain": [
       "           air_store_id  visit_date  visitors  air_reserve_visitors  \\\n",
       "0  air_ba937bf13d40fb24  2016-01-13        25                   NaN   \n",
       "1  air_ba937bf13d40fb24  2016-01-14        32                   NaN   \n",
       "2  air_ba937bf13d40fb24  2016-01-15        29                   NaN   \n",
       "3  air_ba937bf13d40fb24  2016-01-16        22                   NaN   \n",
       "4  air_ba937bf13d40fb24  2016-01-18         6                   NaN   \n",
       "\n",
       "   air_reserve_lead_time  hpg_reserve_visitors  hpg_reserve_lead_time  \\\n",
       "0                    NaN                   NaN                    NaN   \n",
       "1                    NaN                   NaN                    NaN   \n",
       "2                    NaN                   NaN                    NaN   \n",
       "3                    NaN                   NaN                    NaN   \n",
       "4                    NaN                   NaN                    NaN   \n",
       "\n",
       "  air_genre_name                 air_area_name   latitude   longitude  \\\n",
       "0     Dining bar  Tōkyō-to Minato-ku Shibakōen  35.658068  139.751599   \n",
       "1     Dining bar  Tōkyō-to Minato-ku Shibakōen  35.658068  139.751599   \n",
       "2     Dining bar  Tōkyō-to Minato-ku Shibakōen  35.658068  139.751599   \n",
       "3     Dining bar  Tōkyō-to Minato-ku Shibakōen  35.658068  139.751599   \n",
       "4     Dining bar  Tōkyō-to Minato-ku Shibakōen  35.658068  139.751599   \n",
       "\n",
       "   day_of_week  holiday_flg  is_weekend  \n",
       "0            2            0           0  \n",
       "1            3            0           0  \n",
       "2            4            0           0  \n",
       "3            5            0           1  \n",
       "4            0            0           0  "
      ]
     },
     "execution_count": 18,
     "metadata": {},
     "output_type": "execute_result"
    }
   ],
   "source": [
    "full_df.head()"
   ]
  },
  {
   "cell_type": "markdown",
   "metadata": {},
   "source": [
    "### 2. Lag + Rolling Features"
   ]
  },
  {
   "cell_type": "code",
   "execution_count": null,
   "metadata": {},
   "outputs": [],
   "source": []
  }
 ],
 "metadata": {
  "kernelspec": {
   "display_name": "Python 3",
   "language": "python",
   "name": "python3"
  },
  "language_info": {
   "codemirror_mode": {
    "name": "ipython",
    "version": 3
   },
   "file_extension": ".py",
   "mimetype": "text/x-python",
   "name": "python",
   "nbconvert_exporter": "python",
   "pygments_lexer": "ipython3",
   "version": "3.9.6"
  }
 },
 "nbformat": 4,
 "nbformat_minor": 2
}
